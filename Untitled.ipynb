{
 "cells": [
  {
   "cell_type": "code",
   "execution_count": 37,
   "metadata": {
    "collapsed": false
   },
   "outputs": [
    {
     "data": {
      "image/png": "[encoded data removed]",
      "text/plain": [
       "<matplotlib.figure.Figure at 0x110958310>"
      ]
     },
     "metadata": {},
     "output_type": "display_data"
    }
   ],
   "source": [
    "from matplotlib import pyplot as plt\n",
    "import numpy as np\n",
    "\n",
    "d = [(\"the\", 2345),\n",
    "          (\"I\", 2216),\n",
    "          (\"a\", 1843),\n",
    "          (\"to\", 1709),\n",
    "          (\"you\", 1643),\n",
    "          (\"and\", 1142),\n",
    "          (\"is\", 1138),\n",
    "          (\"of\", 944),\n",
    "          (\"in\", 859),\n",
    "          (\"for\", 818),\n",
    "          (\"my\", 807),\n",
    "          (\"me\", 787),\n",
    "          (\"with\", 703),\n",
    "          (\"this\", 633),\n",
    "          (\"on\", 601),\n",
    "          (\"so\", 583),\n",
    "          (\"just\", 513),\n",
    "          (\"it\", 487),\n",
    "          (\"I'm\", 471),\n",
    "          (\"have\", 459)]\n",
    "\n",
    "words = []\n",
    "counts = []\n",
    "for word in d:\n",
    "    words.append(word[0])\n",
    "    counts.append(int(word[1]))\n",
    "\n",
    "fig = plt.figure(figsize=(12,5))\n",
    "ax = plt.subplot(111)\n",
    "\n",
    "ax.bar(np.arange(len(words)), counts)\n",
    "ax.set_xticks(np.arange(len(words)) + .4)\n",
    "ax.set_xticklabels(words, rotation=45)\n",
    "plt.title(\"Top 20 Words\")\n",
    "ax.set_ylabel(\"Occurences\")\n",
    "plt.show()"
   ]
  },
  {
   "cell_type": "code",
   "execution_count": 16,
   "metadata": {
    "collapsed": false
   },
   "outputs": [
    {
     "data": {
      "text/plain": [
       "['the',\n",
       " 'I',\n",
       " 'a',\n",
       " 'to',\n",
       " 'you',\n",
       " 'and',\n",
       " 'is',\n",
       " 'of',\n",
       " 'in',\n",
       " 'for',\n",
       " 'my',\n",
       " 'me',\n",
       " 'with',\n",
       " 'this',\n",
       " 'on',\n",
       " 'so',\n",
       " 'just',\n",
       " 'it',\n",
       " \"I'm\",\n",
       " 'have']"
      ]
     },
     "execution_count": 16,
     "metadata": {},
     "output_type": "execute_result"
    }
   ],
   "source": [
    "words"
   ]
  },
  {
   "cell_type": "code",
   "execution_count": 10,
   "metadata": {
    "collapsed": false
   },
   "outputs": [
    {
     "data": {
      "text/plain": [
       "[]"
      ]
     },
     "execution_count": 10,
     "metadata": {},
     "output_type": "execute_result"
    }
   ],
   "source": [
    "counts"
   ]
  }
 ],
 "metadata": {
  "kernelspec": {
   "display_name": "Python 2",
   "language": "python",
   "name": "python2"
  },
  "language_info": {
   "codemirror_mode": {
    "name": "ipython",
    "version": 2
   },
   "file_extension": ".py",
   "mimetype": "text/x-python",
   "name": "python",
   "nbconvert_exporter": "python",
   "pygments_lexer": "ipython2",
   "version": "2.7.12"
  }
 },
 "nbformat": 4,
 "nbformat_minor": 0
}
